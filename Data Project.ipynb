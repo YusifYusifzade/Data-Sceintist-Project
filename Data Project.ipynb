{
 "cells": [
  {
   "cell_type": "markdown",
   "metadata": {},
   "source": [
    "Data Scientist Project\n"
   ]
  },
  {
   "cell_type": "markdown",
   "metadata": {},
   "source": [
    "This notebook is prepared to provide information about data science tools and techniques."
   ]
  },
  {
   "cell_type": "markdown",
   "metadata": {},
   "source": [
    "Data Science Languages\n",
    "- Python\n",
    "- R\n",
    "- SQL\n",
    "- Julia\n",
    "- Java"
   ]
  },
  {
   "cell_type": "markdown",
   "metadata": {},
   "source": [
    "Data Science Libraries\n",
    "\n",
    "NumPy\n",
    "\n",
    "Pandas\n",
    "\n",
    "Matplotlib\n",
    "\n",
    "Scikit-learn\n",
    "\n",
    "TensorFlow"
   ]
  },
  {
   "cell_type": "markdown",
   "metadata": {},
   "source": [
    "Data Science Tools:\n",
    "\n",
    "Jupyter-A notebook environment for writing and running code\n",
    "    \n",
    "RStudio-An IDE developed for the R language\n",
    "    \n",
    "Apache Spark-An analytics engine for big data processing\n",
    "    \n",
    "TensorFlow-A machine learning and deep learning library\n",
    "\n",
    "Git-A version control system\n"
   ]
  },
  {
   "cell_type": "markdown",
   "metadata": {},
   "source": [
    "Arithmetic Expression Examples\n",
    "\n",
    "In this section, you will see simple arithmetic operations."
   ]
  },
  {
   "cell_type": "code",
   "execution_count": 3,
   "metadata": {},
   "outputs": [
    {
     "name": "stdout",
     "output_type": "stream",
     "text": [
      "Multiplication: 42\n",
      "Sum: 13\n"
     ]
    }
   ],
   "source": [
    "# Multiplying two numbers\n",
    "x = 6 * 7\n",
    "print(\"Multiplication:\", x)\n",
    "\n",
    "# Adding two numbers\n",
    "y = 6 + 7\n",
    "print(\"Sum:\", y)\n"
   ]
  },
  {
   "cell_type": "code",
   "execution_count": 4,
   "metadata": {},
   "outputs": [
    {
     "name": "stdout",
     "output_type": "stream",
     "text": [
      "150 minutes is equal to 2.50 hours.\n"
     ]
    }
   ],
   "source": [
    "# Converting minutes to hours\n",
    "minutes = 150\n",
    "hours = minutes / 60\n",
    "print(f\"{minutes} minutes is equal to {hours:.2f} hours.\")\n"
   ]
  },
  {
   "cell_type": "markdown",
   "metadata": {},
   "source": [
    "Goals:\n",
    "\n",
    "Learn data science tools\n",
    "\n",
    "Learn basic Python coding\n",
    "\n",
    "Perform data analysis and visualization\n"
   ]
  },
  {
   "cell_type": "markdown",
   "metadata": {},
   "source": [
    "Author\n",
    "Yusif Yusifzade"
   ]
  }
 ],
 "metadata": {
  "kernelspec": {
   "display_name": "Python 3",
   "language": "python",
   "name": "python3"
  },
  "language_info": {
   "codemirror_mode": {
    "name": "ipython",
    "version": 3
   },
   "file_extension": ".py",
   "mimetype": "text/x-python",
   "name": "python",
   "nbconvert_exporter": "python",
   "pygments_lexer": "ipython3",
   "version": "3.12.3"
  }
 },
 "nbformat": 4,
 "nbformat_minor": 2
}
